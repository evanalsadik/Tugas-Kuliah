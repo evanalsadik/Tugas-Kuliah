{
 "cells": [
  {
   "cell_type": "markdown",
   "id": "d5984dcc-11b6-4f6b-8488-f4c208c6f5b0",
   "metadata": {},
   "source": [
    "**Nama: Moh Evan Alsadik | Nim: 053779188 | STDA4101**"
   ]
  },
  {
   "cell_type": "code",
   "execution_count": 1,
   "id": "05646a26-4fc1-452d-9cef-cc25822ca52f",
   "metadata": {},
   "outputs": [
    {
     "name": "stdout",
     "output_type": "stream",
     "text": [
      "\n",
      "\n"
     ]
    }
   ],
   "source": [
    "import pandas as pd\n",
    "import scipy.stats as stats\n",
    "import matplotlib.pyplot as plt\n",
    "import seaborn as sns\n",
    "file_tugas = \"Tugas 1 STDA4101-2024.1.xlsx\"\n",
    "tugas_df = pd.read_excel(file_tugas)\n",
    "# tugas_df.describe()\n",
    "umur = tugas_df[\"AGE\"]\n",
    "print(\"\\n\")"
   ]
  },
  {
   "cell_type": "markdown",
   "id": "71f73247-fbef-4d75-a9d7-c9de441c6821",
   "metadata": {},
   "source": [
    "**Berdasarkan data excel terlampir, lakukan analisis statistik deskriptif dengan cara menentukan:**"
   ]
  },
  {
   "cell_type": "markdown",
   "id": "1daa3a30-59ec-4592-b065-c376615acc82",
   "metadata": {},
   "source": [
    "### Ukuran pemusatan data: Mean, Median, dan Mode\n",
    "\n",
    "**Ukuran Pemusatan** atau central tendency merupakan nilai yang dipandang dapat memberikan gambaran mengenai tata letak suatu data. Utamanya digunakan dalam mencari titik fokus atau nilai tengah yang mewakili sekumpulan data."
   ]
  },
  {
   "cell_type": "code",
   "execution_count": 2,
   "id": "bdafefc0-1cd9-402f-863b-0c4d3ffeb653",
   "metadata": {},
   "outputs": [
    {
     "name": "stdout",
     "output_type": "stream",
     "text": [
      "Mean: 45.82\n",
      "Median: 47.5\n",
      "Modus: [48, 61]\n",
      "\n",
      "\n"
     ]
    }
   ],
   "source": [
    "mean = umur.mean()\n",
    "median = umur.median()\n",
    "modus = umur.mode().tolist() # Jadikan list kalau-kalau modusnya lebih dari satu.\n",
    "# Menampilkan hasil.\n",
    "print(\"Mean:\", mean) # jumlah seluruh nilai dalam dataset dibagi jumlah data.\n",
    "print(\"Median:\", median) # nilai tengah dari suatu datadet yang telah diurutkan.\n",
    "print(\"Modus:\", modus) # nilai dengan frekuensi paling banyak dalam dataset.\n",
    "print(\"\\n\")"
   ]
  },
  {
   "cell_type": "markdown",
   "id": "c41ecc2f-e712-434b-af1d-a240f34739fc",
   "metadata": {},
   "source": [
    "### Ukuran penyebaran data: Range, Variance, dan Standard Deviation\n",
    "\n",
    "**Ukuran Penyebaran** Ukuran yang menyatakan seberapa besar nilai pada data memiliki perbedaan atau variasi dengan nilai ukuran pusatnya, atau seberapa besar penyimpangan nilai-nilai data dengan nilai pusatnya disebut ukuran pemusatan. Ukuran penyebaran dapat memberikan informasi mengenai apakah data cenderung berkumpul di sekitaran pusat atau tersebar luas."
   ]
  },
  {
   "cell_type": "code",
   "execution_count": 3,
   "id": "128337ac-4e5b-4880-8d61-35ac5103a1a5",
   "metadata": {},
   "outputs": [
    {
     "name": "stdout",
     "output_type": "stream",
     "text": [
      "Range: 53\n",
      "Variance: 187.38\n",
      "Standard Deviation: 13.69\n",
      "\n",
      "\n"
     ]
    }
   ],
   "source": [
    "data_range = umur.max() - umur.min()\n",
    "variance = umur.var()\n",
    "std_dev = umur.std()\n",
    "# Menampilkan hasil\n",
    "print(f\"Range: {data_range}\") # selisih antara nilai maksimum dan minimum dalam dataset.\n",
    "print(f\"Variance: {variance:.2f}\") # nilai yang memperlihatkan seberapa jauh nilai-nilai dalam data menyebar dari nilai pusatnya.\n",
    "print(f\"Standard Deviation: {std_dev:.2f}\") # menunjukkan seberapa jauh rata-rata penyebaran data dari nilai rata-rata (mean) secara umum.\n",
    "print(\"\\n\")"
   ]
  },
  {
   "cell_type": "markdown",
   "id": "869db130-538b-4d55-a84a-0e941a7ae26c",
   "metadata": {},
   "source": [
    "### Bentuk distribusi data: Symmetry, Skewness, dan Kurtosis."
   ]
  },
  {
   "cell_type": "code",
   "execution_count": 4,
   "id": "a06b2ebb-ea5d-452e-98b7-b660d40c411e",
   "metadata": {},
   "outputs": [
    {
     "name": "stdout",
     "output_type": "stream",
     "text": [
      "Symmetry:\n",
      "\tApakah mean (45.82) = median (47.5) = modus pertama (48): False\n",
      "\tApakah mean (45.82) = median (47.5) = modus kedua (61): False\n",
      "Skewness: -0.0899\n",
      "Kurtosis: -1.0054\n",
      "\n",
      "\n"
     ]
    }
   ],
   "source": [
    "symmetry = stats.semicircular(umur)\n",
    "skewness = stats.skew(umur)\n",
    "kurtosis = stats.kurtosis(umur)\n",
    "print(\"Symmetry:\")\n",
    "print(f\"\\tApakah mean ({mean}) = median ({median}) = modus pertama ({modus[0]}): {mean == median == modus[0]}\")\n",
    "print(f\"\\tApakah mean ({mean}) = median ({median}) = modus kedua ({modus[1]}): {mean == median == modus[1]}\")\n",
    "print(f\"Skewness: {skewness:.4f}\") # Kemiringan distribusi data.\n",
    "print(f\"Kurtosis: {kurtosis:.4f}\") # Keruncingan kurva.\n",
    "print(\"\\n\")"
   ]
  },
  {
   "cell_type": "markdown",
   "id": "33ad6cc2-623f-468c-882b-a3a803c04060",
   "metadata": {},
   "source": [
    "**Uraian**\n",
    "\n",
    "**Symmetry:** Data bisa dikatakan simetris jika memiliki distribusi yang sama di kedua sisi median. Dengan kata lain, jika membagi data di median (50:50), jumlah data di sebelah kiri dan kanan harus hampir sama. Tapi untuk sedikit kemudahan, gunakan nilai ukuran pemusatan sebelumnya saja. \n"
   ]
  },
  {
   "cell_type": "markdown",
   "id": "39661fb3-49a8-4bda-b53d-d88e5d6bd1dd",
   "metadata": {},
   "source": [
    "1. Jika nilai mean = median = modus (mean 'hampir mendekati' median 'hampir mendekati' modus): distribusinya dianggap simetris,\n",
    "2. Jika nilai mean < median: distribusi miring ke kiri (skewed left), dan\n",
    "3. Jika nilai mean > median: distribusimiring ke kanan (skewed right).\n",
    "\n",
    "Dalam kasus ini, kondisi nomor 1 sudah jelas tidak terpenuhi, berarti distribusinya **asimetri**. Ciri distribusi data asimetri adalah nilai mean, median, dan modusnya tidak sama. Lalu, kondisi nomor 2 terpenuhi yaitu mean < median (45.82 < 47.5) maka itu berarti distribusi datanya miring ke kiri (skewed left). Hal ini akan dipertegas di bagian selanjutnya.\n"
   ]
  },
  {
   "cell_type": "markdown",
   "id": "2bc58498-3290-4ada-ad54-e53282783f57",
   "metadata": {},
   "source": [
    "**Skewness:** Kemencengan atau kecondongan adalah tingkat ketidaksimetrisan dari sebuah distribusi. Skewness diartikan sebagai kemiringan distribusi data dan nilainya berguna untuk mengukur sejauh mana data miring ke satu sisi. \n"
   ]
  },
  {
   "cell_type": "markdown",
   "id": "6ab1c341-8913-4b1b-8299-9283afc1f75a",
   "metadata": {},
   "source": [
    "1. Jika nilai skewness = 0: distribusi simetris,\n",
    "2. Jika nilai skewness > 0: distribusi miring ke kanan (lebih banyak nilai tinggi), dan\n",
    "3. Jika nilai skewness < 0: distribusi miring ke kiri (lebih banyak nilai rendah).\n",
    "\n",
    "Hasil atau nilai skewness yang saya dapatkan dari data ini adalah -0.09 yang mana nilai ini kurang dari nol (0) maka bentuk distribusi datanya sedikit **miring ke sebelah kiri**.\n"
   ]
  },
  {
   "cell_type": "markdown",
   "id": "8796283d-f448-45df-b4a1-6864bb36877f",
   "metadata": {},
   "source": [
    "**Kurtosis:** Ketinggian kurva atau keruncingan adalah tingkat kepuncakan maupun kedataran dari sebuah distribusi data yang biasanya diambil secara relatif terhadap suatu distribusi normal. \n"
   ]
  },
  {
   "cell_type": "markdown",
   "id": "36c8adbf-e4fc-4945-8bca-ba3784122da1",
   "metadata": {},
   "source": [
    "1. Jika nilai kurtosis = 0: (dalam beberapa definisi) ini berarti kurtosis normal,\n",
    "2. Jika nilai kurtosis > 0: puncak distribusi sangat tajam, memiliki ekor yang lebih berat serta menunjukkan bahwa ada lebih banyak nilai ekstrem (outlier), dan\n",
    "3. Jika nilai kurtosis < 0: puncak distribusi lebih datar dan juga menunjukkan bahwa datanya lebih tersebar.\n",
    "   \n",
    "Terakhir, nilai kurtosis yang muncul adalah -1,01 yang menunjukkan bahwa distribusi datanya **lebih datar dan menyebar**. Hal ini karena angka -1,01 < 0 sesuai kondisi ketiga pada uraian sebelumnya.\n"
   ]
  },
  {
   "cell_type": "markdown",
   "id": "b2a0ce80-9e36-41b3-b582-b4012b2150f5",
   "metadata": {},
   "source": [
    "### Buatlah visualisasi data univariat menggunakan Quartile Plot (box plot) dan berikan ulasan Anda tentang plot tersebut."
   ]
  },
  {
   "cell_type": "markdown",
   "id": "758100bd-9b56-4fa9-8011-4c0443a73282",
   "metadata": {},
   "source": [
    "#### Visualisasi Data"
   ]
  },
  {
   "cell_type": "code",
   "execution_count": 5,
   "id": "e60f1531-1dd4-41d8-a828-ed9dbd9447d1",
   "metadata": {},
   "outputs": [
    {
     "data": {
      "image/png": "[encoded data removed]",
      "text/plain": [
       "<Figure size 800x500 with 1 Axes>"
      ]
     },
     "metadata": {},
     "output_type": "display_data"
    }
   ],
   "source": [
    "# Visualisasi Box Plot\n",
    "plt.figure(figsize=(8, 5)) # Ukuran Gambar\n",
    "box = plt.boxplot(umur, patch_artist=True)\n",
    "\n",
    "# Whiskers dan Garis Median\n",
    "for whisker in box['whiskers']:\n",
    "    whisker.set(color='#8B8B8B', linewidth=1.5)\n",
    "for median in box['medians']:\n",
    "    median.set(color='red', linewidth=3)\n",
    "    \n",
    "# Judul dan Label\n",
    "plt.title('Box Plot of Data', fontsize=14)\n",
    "plt.ylabel('Values', fontsize=12) # Label pada sumbu y\n",
    "plt.xticks([1], ['Data']) # Label pada sumbu X\n",
    "\n",
    "# Grid\n",
    "plt.grid(axis='y', linestyle='--', alpha=0.7)\n",
    "\n",
    "# Tampilkan plot\n",
    "plt.show()"
   ]
  },
  {
   "cell_type": "markdown",
   "id": "c8a59ac9-baaa-4231-b67c-cc195fea84b2",
   "metadata": {},
   "source": [
    "**Ulasan saya mengenai plot diatas:** Grafik diatas menggunakan box plot untuk menggambarkan distribusi data umur. Persegi panjang yang berdiri vertikal menunjukkan jangkauan interkuartil (IQR) dalam mengukur sebaran data dengan mengabaikan nilai ekstrim. Nilai jangkauan interkuartil didapatkan dari selisih antara kuartil atas (Q3) dan kuartil bawah (Q1). Lalu, Garis horizontal yang berada di dalam box mewakili nilai tengah atau median (Q2) dari data. Garis Vertikal yang keluar kotak-persegi disebut Whiskers. Pada tiap ujung whiskers terdapat garis vertikal yang menunjukkan nilai data terkecil (dibawah) dan nilai data tersebesar (diatas). Dan titik diluar Whiskers merupakan outlier, yaitu nilai pencilan yang letaknya jauh dari titik atau nilai pusat data.\n",
    "\n",
    "Berdasarkan grafik yang telah ditampilkan, terlihat data terkecilnya adalah 19 (umur 19 tahun) sedangkan data terbesarnya adalah 72 (umur 72 tahun). Grafik ini juga tidak menunjukkan adanya outlier, sehingga data berada dalam rentang normal. Hal ini dibuktikan pada grafik diatas yang tidak memiliki bintik-bintik atau titik-titik diluar whiskers.\n",
    "\n",
    "Selanjutnya grafik ini menunjukkan bahwa 25% data memiliki nilai kurang dari 35 (tahun), 50% dari data nilainya kurang dari 47 (tahun), dan 75% data nilainya kurang dari 58 (tahun), serta sisanya kurang dari 72 (tahun).\n",
    "\n",
    "Dengan demikian, grafik box plot ini mencerminkan distribusi data umur yang cukup merata tanpa variasi yang berlebihan."
   ]
  },
  {
   "cell_type": "markdown",
   "id": "48b6d972-f561-45ca-a6f3-9daf51f81b3c",
   "metadata": {},
   "source": [
    "**Sumber Referensi**"
   ]
  },
  {
   "cell_type": "markdown",
   "id": "6536a774-6402-480c-899f-672dbe6237fa",
   "metadata": {},
   "source": [
    "Sutikno., & Ratnaningsih, D. J. (2025). *Metode Statistika I. Modul 01 & 02*. Tangerang, Banten.\n",
    "Universitas Terbuka.\n",
    "\n",
    "https://binus.ac.id/malang/2022/04/ukuran-pemusatan-data/ \n",
    "\n",
    "https://www.gramedia.com/literasi/aturan-distribusi-normal/\n",
    "\n",
    "https://accounting.binus.ac.id/2021/08/12/memahami-nilai-skewness-ukuran-kemiringan-dalam-statistik-deskriptif/\n",
    "\n",
    "https://binus.ac.id/malang/2022/04/ukuran-penyebaran-data/"
   ]
  }
 ],
 "metadata": {
  "kernelspec": {
   "display_name": "Python 3 (ipykernel)",
   "language": "python",
   "name": "python3"
  },
  "language_info": {
   "codemirror_mode": {
    "name": "ipython",
    "version": 3
   },
   "file_extension": ".py",
   "mimetype": "text/x-python",
   "name": "python",
   "nbconvert_exporter": "python",
   "pygments_lexer": "ipython3",
   "version": "3.10.12"
  }
 },
 "nbformat": 4,
 "nbformat_minor": 5
}
